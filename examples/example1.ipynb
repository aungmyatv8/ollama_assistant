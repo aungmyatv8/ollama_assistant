{
 "cells": [
  {
   "cell_type": "code",
   "execution_count": 1,
   "metadata": {},
   "outputs": [],
   "source": [
    "from ollama_assistant import create_ml_chat, complete_code"
   ]
  },
  {
   "cell_type": "code",
   "execution_count": 2,
   "metadata": {},
   "outputs": [
    {
     "data": {
      "application/vnd.jupyter.widget-view+json": {
       "model_id": "90adb49e30be49038e3592a03eec5a22",
       "version_major": 2,
       "version_minor": 0
      },
      "text/plain": [
       "VBox(children=(Output(layout=Layout(border_bottom='1px solid black', border_left='1px solid black', border_rig…"
      ]
     },
     "metadata": {},
     "output_type": "display_data"
    },
    {
     "data": {
      "application/javascript": [
       "\n",
       "            // Wait for the textarea to be rendered before attaching event listener\n",
       "            setTimeout(function() {\n",
       "                var textarea = document.querySelector('.widget-textarea');\n",
       "                if (textarea) {\n",
       "                    textarea.addEventListener('keydown', function(event) {\n",
       "                        if (event.shiftKey && event.key === 'Enter') {\n",
       "                            // Allow new line on Shift+Enter\n",
       "                            event.stopPropagation();\n",
       "                        }\n",
       "                        else if (event.ctrlKey && event.key === 'Enter') {\n",
       "                            // Trigger submit when Ctrl+Enter is pressed\n",
       "                            var submitButton = document.querySelector('.widget-button');\n",
       "                            submitButton.click();\n",
       "                            event.preventDefault();  // Prevent JupyterLab cell execution\n",
       "                        }\n",
       "                    });\n",
       "                }\n",
       "            }, 100);\n",
       "        "
      ],
      "text/plain": [
       "<IPython.core.display.Javascript object>"
      ]
     },
     "metadata": {},
     "output_type": "display_data"
    },
    {
     "data": {
      "text/plain": [
       "<ollama_assistant.chat_interface.OllamaMLChatInterface at 0x27dc16df8f0>"
      ]
     },
     "execution_count": 2,
     "metadata": {},
     "output_type": "execute_result"
    }
   ],
   "source": [
    "create_ml_chat(model=\"qwen2.5-coder\")"
   ]
  },
  {
   "cell_type": "code",
   "execution_count": 3,
   "metadata": {},
   "outputs": [
    {
     "name": "stdout",
     "output_type": "stream",
     "text": [
      "```python\n",
      "def binary_search(arr, target):\n",
      "    left, right = 0, len(arr) - 1\n",
      "    \n",
      "    while left <= right:\n",
      "        mid = (left + right) // 2\n",
      "        \n",
      "        if arr[mid] == target:\n",
      "            return mid\n",
      "        elif arr[mid] < target:\n",
      "            left = mid + 1\n",
      "        else:\n",
      "            right = mid - 1\n",
      "    \n",
      "    return -1\n",
      "```"
     ]
    }
   ],
   "source": [
    "%%complete_code\n",
    "def binary_search():"
   ]
  },
  {
   "cell_type": "code",
   "execution_count": null,
   "metadata": {},
   "outputs": [],
   "source": []
  }
 ],
 "metadata": {
  "kernelspec": {
   "display_name": "Python 3 (ipykernel)",
   "language": "python",
   "name": "python3"
  },
  "language_info": {
   "codemirror_mode": {
    "name": "ipython",
    "version": 3
   },
   "file_extension": ".py",
   "mimetype": "text/x-python",
   "name": "python",
   "nbconvert_exporter": "python",
   "pygments_lexer": "ipython3",
   "version": "3.12.3"
  }
 },
 "nbformat": 4,
 "nbformat_minor": 4
}
